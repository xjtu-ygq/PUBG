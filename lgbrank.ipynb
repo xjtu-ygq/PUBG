{
 "cells": [
  {
   "cell_type": "code",
   "execution_count": 1,
   "metadata": {
    "execution": {
     "iopub.execute_input": "2022-06-13T06:22:56.445089Z",
     "iopub.status.busy": "2022-06-13T06:22:56.444924Z",
     "iopub.status.idle": "2022-06-13T06:22:57.942654Z",
     "shell.execute_reply": "2022-06-13T06:22:57.942034Z",
     "shell.execute_reply.started": "2022-06-13T06:22:56.445066Z"
    },
    "scrolled": true,
    "tags": []
   },
   "outputs": [
    {
     "name": "stdout",
     "output_type": "stream",
     "text": [
      "Populating the interactive namespace from numpy and matplotlib\n"
     ]
    }
   ],
   "source": [
    "import pandas as pd\n",
    "import numpy as np\n",
    "import lightgbm as lgb\n",
    "from sklearn.preprocessing import LabelEncoder, MinMaxScaler\n",
    "\n",
    "%pylab inline\n",
    "import seaborn as sns\n",
    "\n",
    "path='./data/data137263/'"
   ]
  },
  {
   "cell_type": "code",
   "execution_count": 2,
   "metadata": {
    "execution": {
     "iopub.execute_input": "2022-06-13T06:22:57.944227Z",
     "iopub.status.busy": "2022-06-13T06:22:57.943762Z",
     "iopub.status.idle": "2022-06-13T06:23:00.843560Z",
     "shell.execute_reply": "2022-06-13T06:23:00.842826Z",
     "shell.execute_reply.started": "2022-06-13T06:22:57.944197Z"
    },
    "scrolled": true,
    "tags": []
   },
   "outputs": [],
   "source": [
    "train=pd.read_csv(path+'pubg_train.csv.zip')\n",
    "test=pd.read_csv(path+'pubg_test.csv.zip')\n",
    "\n",
    "train['type']='trian'\n",
    "test['type']='test'\n",
    "data=pd.concat([train,test])"
   ]
  },
  {
   "cell_type": "code",
   "execution_count": 3,
   "metadata": {
    "execution": {
     "iopub.execute_input": "2022-06-13T06:23:00.845802Z",
     "iopub.status.busy": "2022-06-13T06:23:00.845363Z",
     "iopub.status.idle": "2022-06-13T06:23:01.417362Z",
     "shell.execute_reply": "2022-06-13T06:23:01.416633Z",
     "shell.execute_reply.started": "2022-06-13T06:23:00.845771Z"
    },
    "scrolled": true,
    "tags": []
   },
   "outputs": [],
   "source": [
    "tmpcols=['kill_distance_x_min','kill_distance_x_max', 'kill_distance_y_min', 'kill_distance_y_max']\n",
    "data[tmpcols]=data[tmpcols]+1\n",
    "data[tmpcols]=data[tmpcols].fillna(0)"
   ]
  },
  {
   "cell_type": "code",
   "execution_count": 4,
   "metadata": {
    "execution": {
     "iopub.execute_input": "2022-06-13T06:23:01.418973Z",
     "iopub.status.busy": "2022-06-13T06:23:01.418485Z",
     "iopub.status.idle": "2022-06-13T06:23:01.745056Z",
     "shell.execute_reply": "2022-06-13T06:23:01.744313Z",
     "shell.execute_reply.started": "2022-06-13T06:23:01.418942Z"
    },
    "scrolled": true,
    "tags": []
   },
   "outputs": [],
   "source": [
    "tmp=data.groupby(['match_id','team_id'])['player_dist_ride'].min().reset_index()"
   ]
  },
  {
   "cell_type": "code",
   "execution_count": 5,
   "metadata": {
    "execution": {
     "iopub.execute_input": "2022-06-13T06:23:01.746622Z",
     "iopub.status.busy": "2022-06-13T06:23:01.746170Z",
     "iopub.status.idle": "2022-06-13T06:23:11.579069Z",
     "shell.execute_reply": "2022-06-13T06:23:11.578324Z",
     "shell.execute_reply.started": "2022-06-13T06:23:01.746594Z"
    },
    "scrolled": true,
    "tags": []
   },
   "outputs": [],
   "source": [
    "process_tmp=data[['match_id','team_id']]\n",
    "process_cols=['player_assists','player_dbno','player_dist_ride','player_dist_walk',\n",
    "'player_dmg','player_kills','kill_distance_x_min','kill_distance_x_max','kill_distance_y_min','kill_distance_y_max']\n",
    "\n",
    "tmp=data.groupby(['match_id','team_id'])[process_cols].min().reset_index()\n",
    "# tmp.columns = ['match_id','team_id']+[i+'_min' for i in process_cols]\n",
    "process_tmp=process_tmp.merge(tmp,on=['match_id','team_id'],how='left')\n",
    "\n",
    "tmp=data.groupby(['match_id','team_id'])[process_cols].max().reset_index()\n",
    "# tmp.columns = ['match_id','team_id']+[i+'_max' for i in process_cols]\n",
    "process_tmp=process_tmp.merge(tmp,on=['match_id','team_id'],how='left')\n",
    "\n",
    "tmp=data.groupby(['match_id','team_id'])[process_cols].sum().reset_index()\n",
    "# tmp.columns = ['match_id','team_id']+[i+'_sum' for i in process_cols]\n",
    "process_tmp=process_tmp.merge(tmp,on=['match_id','team_id'],how='left')\n",
    "\n",
    "# tmp=data.groupby(['match_id','team_id'])[process_cols].mean().reset_index()\n",
    "# tmp.columns = ['match_id','team_id']+[i+'_mean' for i in process_cols]\n",
    "# process_tmp=process_tmp.merge(tmp,on=['match_id','team_id'],how='left')\n",
    "\n",
    "process_tmp=process_tmp.drop_duplicates()\n",
    "data=data[['match_id','team_id','game_size','party_size','team_placement','type']]\n",
    "data=data.drop_duplicates()\n",
    "data=data.merge(process_tmp,on=['match_id','team_id'],how='left')"
   ]
  },
  {
   "cell_type": "code",
   "execution_count": 6,
   "metadata": {
    "execution": {
     "iopub.execute_input": "2022-06-13T06:23:11.580768Z",
     "iopub.status.busy": "2022-06-13T06:23:11.580262Z",
     "iopub.status.idle": "2022-06-13T06:23:12.133468Z",
     "shell.execute_reply": "2022-06-13T06:23:12.132735Z",
     "shell.execute_reply.started": "2022-06-13T06:23:11.580737Z"
    },
    "scrolled": true,
    "tags": []
   },
   "outputs": [],
   "source": [
    "train=data[data['type']=='trian']\n",
    "test=data[data['type']=='test']\n",
    "\n",
    "# val=train.tail(500000)\n",
    "# val['type']='val'\n",
    "# train=train.head(1000000)"
   ]
  },
  {
   "cell_type": "code",
   "execution_count": 7,
   "metadata": {
    "execution": {
     "iopub.execute_input": "2022-06-13T06:23:12.135258Z",
     "iopub.status.busy": "2022-06-13T06:23:12.134567Z",
     "iopub.status.idle": "2022-06-13T06:23:12.262867Z",
     "shell.execute_reply": "2022-06-13T06:23:12.262220Z",
     "shell.execute_reply.started": "2022-06-13T06:23:12.135225Z"
    },
    "scrolled": true,
    "tags": []
   },
   "outputs": [
    {
     "name": "stderr",
     "output_type": "stream",
     "text": [
      "/opt/conda/envs/python35-paddle120-env/lib/python3.7/site-packages/ipykernel_launcher.py:1: SettingWithCopyWarning: \n",
      "A value is trying to be set on a copy of a slice from a DataFrame.\n",
      "Try using .loc[row_indexer,col_indexer] = value instead\n",
      "\n",
      "See the caveats in the documentation: https://pandas.pydata.org/pandas-docs/stable/user_guide/indexing.html#returning-a-view-versus-a-copy\n",
      "  \"\"\"Entry point for launching an IPython kernel.\n",
      "/opt/conda/envs/python35-paddle120-env/lib/python3.7/site-packages/ipykernel_launcher.py:2: SettingWithCopyWarning: \n",
      "A value is trying to be set on a copy of a slice from a DataFrame.\n",
      "Try using .loc[row_indexer,col_indexer] = value instead\n",
      "\n",
      "See the caveats in the documentation: https://pandas.pydata.org/pandas-docs/stable/user_guide/indexing.html#returning-a-view-versus-a-copy\n",
      "  \n"
     ]
    }
   ],
   "source": [
    "train['count']=train.groupby('match_id')['team_placement'].transform('count')\n",
    "test['count']=test.groupby('match_id')['team_placement'].transform('count')\n",
    "# val['count']=val.groupby('match_id')['team_placement'].transform('count')\n",
    "\n",
    "tmp=train[['match_id','count']]\n",
    "tmp=tmp.drop_duplicates(keep='first')\n",
    "g_train=tmp['count'].values.tolist()"
   ]
  },
  {
   "cell_type": "code",
   "execution_count": 8,
   "metadata": {
    "execution": {
     "iopub.execute_input": "2022-06-13T06:23:12.264478Z",
     "iopub.status.busy": "2022-06-13T06:23:12.264244Z",
     "iopub.status.idle": "2022-06-13T06:23:12.269721Z",
     "shell.execute_reply": "2022-06-13T06:23:12.269228Z",
     "shell.execute_reply.started": "2022-06-13T06:23:12.264453Z"
    },
    "scrolled": true
   },
   "outputs": [],
   "source": [
    "lgb_cols=['match_id', 'team_id', 'game_size', 'party_size', \n",
    "       'player_assists_x', 'player_dbno_x', 'player_dist_ride_x',\n",
    "       'player_dist_walk_x', 'player_dmg_x', 'player_kills_x',\n",
    "       'kill_distance_x_min_x', 'kill_distance_x_max_x',\n",
    "       'kill_distance_y_min_x', 'kill_distance_y_max_x', 'player_assists_y',\n",
    "       'player_dbno_y', 'player_dist_ride_y', 'player_dist_walk_y',\n",
    "       'player_dmg_y', 'player_kills_y', 'kill_distance_x_min_y',\n",
    "       'kill_distance_x_max_y', 'kill_distance_y_min_y',\n",
    "       'kill_distance_y_max_y', 'player_assists', 'player_dbno',\n",
    "       'player_dist_ride', 'player_dist_walk', 'player_dmg', 'player_kills',\n",
    "       'kill_distance_x_min', 'kill_distance_x_max', 'kill_distance_y_min',\n",
    "       'kill_distance_y_max']\n",
    "\n",
    "# lgb_cols=['match_id', 'team_id', 'game_size', 'party_size',\n",
    "#        'player_assists_min', 'player_dbno_min', 'player_dist_ride_min',\n",
    "#        'player_dist_walk_min', 'player_dmg_min', 'player_kills_min',\n",
    "#        'kill_distance_x_min_min', 'kill_distance_x_max_min',\n",
    "#        'kill_distance_y_min_min', 'kill_distance_y_max_min',\n",
    "#        'player_assists_max', 'player_dbno_max', 'player_dist_ride_max',\n",
    "#        'player_dist_walk_max', 'player_dmg_max', 'player_kills_max',\n",
    "#        'kill_distance_x_min_max', 'kill_distance_x_max_max',\n",
    "#        'kill_distance_y_min_max', 'kill_distance_y_max_max',\n",
    "#        'player_assists_sum', 'player_dbno_sum', 'player_dist_ride_sum',\n",
    "#        'player_dist_walk_sum', 'player_dmg_sum', 'player_kills_sum',\n",
    "#        'kill_distance_x_min_sum', 'kill_distance_x_max_sum',\n",
    "#        'kill_distance_y_min_sum', 'kill_distance_y_max_sum',\n",
    "#        'player_assists_mean', 'player_dbno_mean', 'player_dist_ride_mean',\n",
    "#        'player_dist_walk_mean', 'player_dmg_mean', 'player_kills_mean',\n",
    "#        'kill_distance_x_min_mean', 'kill_distance_x_max_mean',\n",
    "#        'kill_distance_y_min_mean', 'kill_distance_y_max_mean', 'count']\n",
    "\n",
    "# lgb_cols=['match_id', 'team_id', 'game_size', 'party_size', \n",
    "#        'player_assists_min', 'player_dbno_min', 'player_dist_ride_min',\n",
    "#        'player_dist_walk_min', 'player_dmg_min', 'player_kills_min',\n",
    "#        'kill_distance_x_min_min', 'kill_distance_x_max_min',\n",
    "#        'kill_distance_y_min_min', 'kill_distance_y_max_min',\n",
    "#        'player_assists_max', 'player_dbno_max', 'player_dist_ride_max',\n",
    "#        'player_dist_walk_max', 'player_dmg_max', 'player_kills_max',\n",
    "#        'kill_distance_x_min_max', 'kill_distance_x_max_max',\n",
    "#        'kill_distance_y_min_max', 'kill_distance_y_max_max',\n",
    "#        'player_assists_sum', 'player_dbno_sum', 'player_dist_ride_sum',\n",
    "#        'player_dist_walk_sum', 'player_dmg_sum', 'player_kills_sum',\n",
    "#        'kill_distance_x_min_sum', 'kill_distance_x_max_sum',\n",
    "#        'kill_distance_y_min_sum', 'kill_distance_y_max_sum', 'count']"
   ]
  },
  {
   "cell_type": "code",
   "execution_count": 9,
   "metadata": {
    "execution": {
     "iopub.execute_input": "2022-06-13T06:23:12.270837Z",
     "iopub.status.busy": "2022-06-13T06:23:12.270511Z",
     "iopub.status.idle": "2022-06-13T06:23:12.276859Z",
     "shell.execute_reply": "2022-06-13T06:23:12.276371Z",
     "shell.execute_reply.started": "2022-06-13T06:23:12.270814Z"
    },
    "scrolled": true,
    "tags": []
   },
   "outputs": [],
   "source": [
    "# 模型及参数的定义\n",
    "lgb_Ranker = lgb.LGBMRanker(boosting_type='gbdt', num_leaves=31, reg_alpha=0.0, reg_lambda=1,objective='regression',\n",
    "                            max_depth=-1, n_estimators=3000, subsample=0.7, colsample_bytree=0.7, subsample_freq=1,\n",
    "                            learning_rate=0.01, min_child_weight=50, random_state=2022, n_jobs= 16)"
   ]
  },
  {
   "cell_type": "code",
   "execution_count": 10,
   "metadata": {
    "execution": {
     "iopub.execute_input": "2022-06-13T06:23:12.277715Z",
     "iopub.status.busy": "2022-06-13T06:23:12.277548Z",
     "iopub.status.idle": "2022-06-13T06:25:46.021505Z",
     "shell.execute_reply": "2022-06-13T06:25:46.020939Z",
     "shell.execute_reply.started": "2022-06-13T06:23:12.277696Z"
    },
    "scrolled": true,
    "tags": []
   },
   "outputs": [
    {
     "data": {
      "text/plain": [
       "LGBMRanker(colsample_bytree=0.7, learning_rate=0.01, min_child_weight=50,\n",
       "           n_estimators=3000, n_jobs=16, objective='regression',\n",
       "           random_state=2022, reg_lambda=1, subsample=0.7, subsample_freq=1)"
      ]
     },
     "execution_count": 10,
     "metadata": {},
     "output_type": "execute_result"
    }
   ],
   "source": [
    "lgb_Ranker.fit(train[lgb_cols], train['team_placement'],group=g_train)"
   ]
  },
  {
   "cell_type": "code",
   "execution_count": 11,
   "metadata": {
    "execution": {
     "iopub.execute_input": "2022-06-13T06:25:46.022970Z",
     "iopub.status.busy": "2022-06-13T06:25:46.022508Z",
     "iopub.status.idle": "2022-06-13T06:26:08.952302Z",
     "shell.execute_reply": "2022-06-13T06:26:08.951465Z",
     "shell.execute_reply.started": "2022-06-13T06:25:46.022943Z"
    },
    "scrolled": true,
    "tags": []
   },
   "outputs": [
    {
     "name": "stderr",
     "output_type": "stream",
     "text": [
      "/opt/conda/envs/python35-paddle120-env/lib/python3.7/site-packages/ipykernel_launcher.py:2: SettingWithCopyWarning: \n",
      "A value is trying to be set on a copy of a slice from a DataFrame.\n",
      "Try using .loc[row_indexer,col_indexer] = value instead\n",
      "\n",
      "See the caveats in the documentation: https://pandas.pydata.org/pandas-docs/stable/user_guide/indexing.html#returning-a-view-versus-a-copy\n",
      "  \n"
     ]
    },
    {
     "name": "stdout",
     "output_type": "stream",
     "text": [
      "updating: submission.csv (deflated 72%)\n"
     ]
    }
   ],
   "source": [
    "# 模型预测\n",
    "test['rate'] = lgb_Ranker.predict(test[lgb_cols])\n",
    "ygq=test[['match_id','team_id','rate']]\n",
    "\n",
    "test=pd.read_csv(path+'pubg_test.csv.zip',usecols=['match_id','team_id'])\n",
    "test=pd.merge(test,ygq,on=['match_id','team_id'],how='left')\n",
    "\n",
    "ygq=test['rate'].tolist()\n",
    "pd.DataFrame({\n",
    "    'team_placement': ygq\n",
    "}).to_csv('submission.csv', index=None)\n",
    "\n",
    "!zip submission.zip submission.csv"
   ]
  },
  {
   "cell_type": "code",
   "execution_count": 12,
   "metadata": {
    "execution": {
     "iopub.execute_input": "2022-06-13T06:26:08.955755Z",
     "iopub.status.busy": "2022-06-13T06:26:08.955236Z",
     "iopub.status.idle": "2022-06-13T06:26:08.958883Z",
     "shell.execute_reply": "2022-06-13T06:26:08.958370Z",
     "shell.execute_reply.started": "2022-06-13T06:26:08.955722Z"
    },
    "scrolled": true,
    "tags": []
   },
   "outputs": [],
   "source": [
    "# from sklearn.metrics import mean_absolute_error\n",
    "\n",
    "# # 模型验证\n",
    "# val['rate'] = lgb_Ranker.predict(val[lgb_cols])\n",
    "# ygq=val[['match_id','team_id','rate']]\n",
    "\n",
    "# val=pd.read_csv(path+'pubg_train.csv.zip',usecols=['match_id','team_id','team_placement'])\n",
    "# val=val.tail(500000)\n",
    "# ygq_true=val['team_placement'].tolist()\n",
    "# val=val[['match_id','team_id']]\n",
    "# val=pd.merge(val,ygq,on=['match_id','team_id'],how='left')\n",
    "# ygq=val['rate'].tolist()\n",
    "\n",
    "# print(100 - mean_absolute_error(ygq_true, ygq))"
   ]
  },
  {
   "cell_type": "code",
   "execution_count": 13,
   "metadata": {
    "execution": {
     "iopub.execute_input": "2022-06-13T06:26:08.960115Z",
     "iopub.status.busy": "2022-06-13T06:26:08.959917Z",
     "iopub.status.idle": "2022-06-13T06:26:08.965690Z",
     "shell.execute_reply": "2022-06-13T06:26:08.965156Z",
     "shell.execute_reply.started": "2022-06-13T06:26:08.960094Z"
    },
    "scrolled": true,
    "tags": []
   },
   "outputs": [],
   "source": [
    "# # 五折交叉验证，这里的五折交叉是以用户为目标进行五折划分\n",
    "# #  这一部分与前面的单独训练和验证是分开的\n",
    "# def get_kfold_users(trn_df, n=5):\n",
    "#     user_ids = trn_df['match_id'].unique()\n",
    "#     user_set = [user_ids[i::n] for i in range(n)]\n",
    "#     return user_set\n",
    "\n",
    "# k_fold = 5\n",
    "# user_set = get_kfold_users(train, n=k_fold)\n",
    "\n",
    "# score_list = []\n",
    "# score_df = trn_df[['match_id', 'team_id','team_placement']]\n",
    "# sub_preds = np.zeros(tst_user_item_feats_df_rank_model.shape[0])\n",
    "\n",
    "# # 五折交叉验证，并将中间结果保存用于staking\n",
    "# for n_fold, valid_user in enumerate(user_set):\n",
    "#     train_idx = trn_df[~trn_df['user_id'].isin(valid_user)] # add slide user\n",
    "#     valid_idx = trn_df[trn_df['user_id'].isin(valid_user)]\n",
    "    \n",
    "#     # 训练集与验证集的用户分组\n",
    "#     train_idx.sort_values(by=['user_id'], inplace=True)\n",
    "#     g_train = train_idx.groupby(['user_id'], as_index=False).count()[\"label\"].values\n",
    "    \n",
    "#     valid_idx.sort_values(by=['user_id'], inplace=True)\n",
    "#     g_val = valid_idx.groupby(['user_id'], as_index=False).count()[\"label\"].values\n",
    "    \n",
    "#     # 定义模型\n",
    "#     lgb_ranker = lgb.LGBMRanker(boosting_type='gbdt', num_leaves=31, reg_alpha=0.0, reg_lambda=1,\n",
    "#                             max_depth=-1, n_estimators=100, subsample=0.7, colsample_bytree=0.7, subsample_freq=1,\n",
    "#                             learning_rate=0.01, min_child_weight=50, random_state=2018, n_jobs= 16)  \n",
    "#     # 训练模型\n",
    "#     lgb_ranker.fit(train_idx[lgb_cols], train_idx['label'], group=g_train,\n",
    "#                    eval_set=[(valid_idx[lgb_cols], valid_idx['label'])], eval_group= [g_val], \n",
    "#                    eval_at=[1, 2, 3, 4, 5], eval_metric=['ndcg', ], early_stopping_rounds=50, )\n",
    "    \n",
    "#     # 预测验证集结果\n",
    "#     valid_idx['pred_score'] = lgb_ranker.predict(valid_idx[lgb_cols], num_iteration=lgb_ranker.best_iteration_)\n",
    "    \n",
    "#     # 对输出结果进行归一化\n",
    "#     valid_idx['pred_score'] = valid_idx[['pred_score']].transform(lambda x: norm_sim(x))\n",
    "    \n",
    "#     valid_idx.sort_values(by=['user_id', 'pred_score'])\n",
    "#     valid_idx['pred_rank'] = valid_idx.groupby(['user_id'])['pred_score'].rank(ascending=False, method='first')\n",
    "    \n",
    "#     # 将验证集的预测结果放到一个列表中，后面进行拼接\n",
    "#     score_list.append(valid_idx[['user_id', 'click_article_id', 'pred_score', 'pred_rank']])\n",
    "    \n",
    "#     # 如果是线上测试，需要计算每次交叉验证的结果相加，最后求平均\n",
    "#     if not offline:\n",
    "#         sub_preds += lgb_ranker.predict(tst_user_item_feats_df_rank_model[lgb_cols], lgb_ranker.best_iteration_)\n",
    "    \n",
    "\n",
    "    \n",
    "    \n",
    "    \n",
    "# # 保存训练集交叉验证产生的新特征\n",
    "# score_df[['user_id', 'click_article_id', 'pred_score', 'pred_rank', 'label']].to_csv(save_path + 'trn_lgb_ranker_feats.csv', index=False)\n",
    "    \n",
    "# # 测试集的预测结果，多次交叉验证求平均,将预测的score和对应的rank特征保存，可以用于后面的staking，这里还可以构造其他更多的特征\n",
    "# tst_user_item_feats_df_rank_model['pred_score'] = sub_preds / k_fold\n",
    "# tst_user_item_feats_df_rank_model['pred_score'] = tst_user_item_feats_df_rank_model['pred_score'].transform(lambda x: norm_sim(x))\n",
    "# tst_user_item_feats_df_rank_model.sort_values(by=['user_id', 'pred_score'])\n",
    "# tst_user_item_feats_df_rank_model['pred_rank'] = tst_user_item_feats_df_rank_model.groupby(['user_id'])['pred_score'].rank(ascending=False, method='first')\n",
    "\n",
    "# # 保存测试集交叉验证的新特征\n",
    "# tst_user_item_feats_df_rank_model[['user_id', 'click_article_id', 'pred_score', 'pred_rank']].to_csv(save_path + 'tst_lgb_ranker_feats.csv', index=False)\n"
   ]
  }
 ],
 "metadata": {
  "kernelspec": {
   "display_name": "Python 3",
   "language": "python",
   "name": "py35-paddle1.2.0"
  },
  "language_info": {
   "codemirror_mode": {
    "name": "ipython",
    "version": 3
   },
   "file_extension": ".py",
   "mimetype": "text/x-python",
   "name": "python",
   "nbconvert_exporter": "python",
   "pygments_lexer": "ipython3",
   "version": "3.7.4"
  }
 },
 "nbformat": 4,
 "nbformat_minor": 4
}
